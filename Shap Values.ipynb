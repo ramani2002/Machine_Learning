{
 "cells": [
  {
   "cell_type": "markdown",
   "id": "24832733",
   "metadata": {},
   "source": [
    "Reference: https://h2o.ai/blog/shapley-values-a-gentle-introduction/"
   ]
  },
  {
   "cell_type": "markdown",
   "id": "6b4310ef",
   "metadata": {},
   "source": [
    "Dataset used is from: https://www.kaggle.com/datasets/budnyak/wine-rating-and-price?resource=download"
   ]
  },
  {
   "cell_type": "markdown",
   "id": "4cefcd30",
   "metadata": {},
   "source": [
    "Target to predict: 'Rating'"
   ]
  },
  {
   "cell_type": "code",
   "execution_count": 1,
   "id": "8e11538d",
   "metadata": {},
   "outputs": [],
   "source": [
    "# Install packages if needed\n",
    "# !pip install shap\n",
    "# !pip install lightgbm"
   ]
  },
  {
   "cell_type": "code",
   "execution_count": 2,
   "id": "eb66b820",
   "metadata": {},
   "outputs": [],
   "source": [
    "# Imports\n",
    "import pandas as pd\n",
    "import numpy as np\n",
    "import matplotlib.pyplot as plt\n",
    "import seaborn as sns\n",
    "import glob # To read the files in a directory\n",
    "\n",
    "# Import shap and the model of choice\n",
    "import shap\n",
    "from lightgbm import LGBMRegressor\n",
    "\n",
    "# Set style for shap plots\n",
    "sns.set(style='ticks')"
   ]
  },
  {
   "cell_type": "code",
   "execution_count": 3,
   "id": "20bf4d8f",
   "metadata": {},
   "outputs": [],
   "source": [
    "# Global Variables\n",
    "DIRPATH = r'C:\\Users\\raman\\OneDrive\\Documents\\Datasets\\wine_rating_price'\n",
    "FILENAMERED = '\\Red.csv'\n",
    "FILENAMEROSE = 'Rose.csv'\n",
    "FILENAMESPARKLING = 'Sparkling.csv'\n",
    "FILENAMEVARIETIES = 'Varieties.csv'\n",
    "FILENAMEWHITE = 'White.csv'"
   ]
  },
  {
   "cell_type": "code",
   "execution_count": 4,
   "id": "f4ed1390",
   "metadata": {},
   "outputs": [
    {
     "name": "stdout",
     "output_type": "stream",
     "text": [
      "The top few rows of Red wine data is:\n",
      "\n"
     ]
    },
    {
     "data": {
      "text/html": [
       "<div>\n",
       "<style scoped>\n",
       "    .dataframe tbody tr th:only-of-type {\n",
       "        vertical-align: middle;\n",
       "    }\n",
       "\n",
       "    .dataframe tbody tr th {\n",
       "        vertical-align: top;\n",
       "    }\n",
       "\n",
       "    .dataframe thead th {\n",
       "        text-align: right;\n",
       "    }\n",
       "</style>\n",
       "<table border=\"1\" class=\"dataframe\">\n",
       "  <thead>\n",
       "    <tr style=\"text-align: right;\">\n",
       "      <th></th>\n",
       "      <th>Name</th>\n",
       "      <th>Country</th>\n",
       "      <th>Region</th>\n",
       "      <th>Winery</th>\n",
       "      <th>Rating</th>\n",
       "      <th>NumberOfRatings</th>\n",
       "      <th>Price</th>\n",
       "      <th>Year</th>\n",
       "    </tr>\n",
       "  </thead>\n",
       "  <tbody>\n",
       "    <tr>\n",
       "      <th>0</th>\n",
       "      <td>Pomerol 2011</td>\n",
       "      <td>France</td>\n",
       "      <td>Pomerol</td>\n",
       "      <td>Château La Providence</td>\n",
       "      <td>4.2</td>\n",
       "      <td>100</td>\n",
       "      <td>95.00</td>\n",
       "      <td>2011</td>\n",
       "    </tr>\n",
       "    <tr>\n",
       "      <th>1</th>\n",
       "      <td>Lirac 2017</td>\n",
       "      <td>France</td>\n",
       "      <td>Lirac</td>\n",
       "      <td>Château Mont-Redon</td>\n",
       "      <td>4.3</td>\n",
       "      <td>100</td>\n",
       "      <td>15.50</td>\n",
       "      <td>2017</td>\n",
       "    </tr>\n",
       "    <tr>\n",
       "      <th>2</th>\n",
       "      <td>Erta e China Rosso di Toscana 2015</td>\n",
       "      <td>Italy</td>\n",
       "      <td>Toscana</td>\n",
       "      <td>Renzo Masi</td>\n",
       "      <td>3.9</td>\n",
       "      <td>100</td>\n",
       "      <td>7.45</td>\n",
       "      <td>2015</td>\n",
       "    </tr>\n",
       "    <tr>\n",
       "      <th>3</th>\n",
       "      <td>Bardolino 2019</td>\n",
       "      <td>Italy</td>\n",
       "      <td>Bardolino</td>\n",
       "      <td>Cavalchina</td>\n",
       "      <td>3.5</td>\n",
       "      <td>100</td>\n",
       "      <td>8.72</td>\n",
       "      <td>2019</td>\n",
       "    </tr>\n",
       "    <tr>\n",
       "      <th>4</th>\n",
       "      <td>Ried Scheibner Pinot Noir 2016</td>\n",
       "      <td>Austria</td>\n",
       "      <td>Carnuntum</td>\n",
       "      <td>Markowitsch</td>\n",
       "      <td>3.9</td>\n",
       "      <td>100</td>\n",
       "      <td>29.15</td>\n",
       "      <td>2016</td>\n",
       "    </tr>\n",
       "  </tbody>\n",
       "</table>\n",
       "</div>"
      ],
      "text/plain": [
       "                                 Name  Country     Region  \\\n",
       "0                        Pomerol 2011   France    Pomerol   \n",
       "1                          Lirac 2017   France      Lirac   \n",
       "2  Erta e China Rosso di Toscana 2015    Italy    Toscana   \n",
       "3                      Bardolino 2019    Italy  Bardolino   \n",
       "4      Ried Scheibner Pinot Noir 2016  Austria  Carnuntum   \n",
       "\n",
       "                  Winery  Rating  NumberOfRatings  Price  Year  \n",
       "0  Château La Providence     4.2              100  95.00  2011  \n",
       "1     Château Mont-Redon     4.3              100  15.50  2017  \n",
       "2             Renzo Masi     3.9              100   7.45  2015  \n",
       "3             Cavalchina     3.5              100   8.72  2019  \n",
       "4            Markowitsch     3.9              100  29.15  2016  "
      ]
     },
     "metadata": {},
     "output_type": "display_data"
    }
   ],
   "source": [
    "df_red = pd.read_csv(DIRPATH+FILENAMERED)\n",
    "print(f'The top few rows of Red wine data is:\\n')\n",
    "display(df_red.head())"
   ]
  },
  {
   "cell_type": "code",
   "execution_count": 5,
   "id": "2aab904f",
   "metadata": {},
   "outputs": [
    {
     "name": "stdout",
     "output_type": "stream",
     "text": [
      "<class 'pandas.core.frame.DataFrame'>\n",
      "RangeIndex: 8666 entries, 0 to 8665\n",
      "Data columns (total 8 columns):\n",
      " #   Column           Non-Null Count  Dtype  \n",
      "---  ------           --------------  -----  \n",
      " 0   Name             8666 non-null   object \n",
      " 1   Country          8666 non-null   object \n",
      " 2   Region           8666 non-null   object \n",
      " 3   Winery           8666 non-null   object \n",
      " 4   Rating           8666 non-null   float64\n",
      " 5   NumberOfRatings  8666 non-null   int64  \n",
      " 6   Price            8666 non-null   float64\n",
      " 7   Year             8666 non-null   object \n",
      "dtypes: float64(2), int64(1), object(5)\n",
      "memory usage: 541.8+ KB\n",
      "None\n"
     ]
    }
   ],
   "source": [
    "# Check for NaN values\n",
    "print(df_red.info())"
   ]
  },
  {
   "cell_type": "code",
   "execution_count": 6,
   "id": "19fd9197",
   "metadata": {},
   "outputs": [
    {
     "data": {
      "text/html": [
       "<div>\n",
       "<style scoped>\n",
       "    .dataframe tbody tr th:only-of-type {\n",
       "        vertical-align: middle;\n",
       "    }\n",
       "\n",
       "    .dataframe tbody tr th {\n",
       "        vertical-align: top;\n",
       "    }\n",
       "\n",
       "    .dataframe thead th {\n",
       "        text-align: right;\n",
       "    }\n",
       "</style>\n",
       "<table border=\"1\" class=\"dataframe\">\n",
       "  <thead>\n",
       "    <tr style=\"text-align: right;\">\n",
       "      <th></th>\n",
       "      <th>Rating</th>\n",
       "      <th>NumberOfRatings</th>\n",
       "      <th>Price</th>\n",
       "      <th>Year</th>\n",
       "    </tr>\n",
       "  </thead>\n",
       "  <tbody>\n",
       "    <tr>\n",
       "      <th>0</th>\n",
       "      <td>4.2</td>\n",
       "      <td>100</td>\n",
       "      <td>95.00</td>\n",
       "      <td>2011</td>\n",
       "    </tr>\n",
       "    <tr>\n",
       "      <th>1</th>\n",
       "      <td>4.3</td>\n",
       "      <td>100</td>\n",
       "      <td>15.50</td>\n",
       "      <td>2017</td>\n",
       "    </tr>\n",
       "    <tr>\n",
       "      <th>2</th>\n",
       "      <td>3.9</td>\n",
       "      <td>100</td>\n",
       "      <td>7.45</td>\n",
       "      <td>2015</td>\n",
       "    </tr>\n",
       "    <tr>\n",
       "      <th>3</th>\n",
       "      <td>3.5</td>\n",
       "      <td>100</td>\n",
       "      <td>8.72</td>\n",
       "      <td>2019</td>\n",
       "    </tr>\n",
       "    <tr>\n",
       "      <th>4</th>\n",
       "      <td>3.9</td>\n",
       "      <td>100</td>\n",
       "      <td>29.15</td>\n",
       "      <td>2016</td>\n",
       "    </tr>\n",
       "  </tbody>\n",
       "</table>\n",
       "</div>"
      ],
      "text/plain": [
       "   Rating  NumberOfRatings  Price  Year\n",
       "0     4.2              100  95.00  2011\n",
       "1     4.3              100  15.50  2017\n",
       "2     3.9              100   7.45  2015\n",
       "3     3.5              100   8.72  2019\n",
       "4     3.9              100  29.15  2016"
      ]
     },
     "metadata": {},
     "output_type": "display_data"
    },
    {
     "data": {
      "text/html": [
       "<div>\n",
       "<style scoped>\n",
       "    .dataframe tbody tr th:only-of-type {\n",
       "        vertical-align: middle;\n",
       "    }\n",
       "\n",
       "    .dataframe tbody tr th {\n",
       "        vertical-align: top;\n",
       "    }\n",
       "\n",
       "    .dataframe thead th {\n",
       "        text-align: right;\n",
       "    }\n",
       "</style>\n",
       "<table border=\"1\" class=\"dataframe\">\n",
       "  <thead>\n",
       "    <tr style=\"text-align: right;\">\n",
       "      <th></th>\n",
       "      <th>Rating</th>\n",
       "      <th>NumberOfRatings</th>\n",
       "      <th>Price</th>\n",
       "      <th>Year</th>\n",
       "    </tr>\n",
       "  </thead>\n",
       "  <tbody>\n",
       "    <tr>\n",
       "      <th>0</th>\n",
       "      <td>4.2</td>\n",
       "      <td>100</td>\n",
       "      <td>95.00</td>\n",
       "      <td>2011</td>\n",
       "    </tr>\n",
       "    <tr>\n",
       "      <th>1</th>\n",
       "      <td>4.3</td>\n",
       "      <td>100</td>\n",
       "      <td>15.50</td>\n",
       "      <td>2017</td>\n",
       "    </tr>\n",
       "    <tr>\n",
       "      <th>2</th>\n",
       "      <td>3.9</td>\n",
       "      <td>100</td>\n",
       "      <td>7.45</td>\n",
       "      <td>2015</td>\n",
       "    </tr>\n",
       "    <tr>\n",
       "      <th>3</th>\n",
       "      <td>3.5</td>\n",
       "      <td>100</td>\n",
       "      <td>8.72</td>\n",
       "      <td>2019</td>\n",
       "    </tr>\n",
       "    <tr>\n",
       "      <th>4</th>\n",
       "      <td>3.9</td>\n",
       "      <td>100</td>\n",
       "      <td>29.15</td>\n",
       "      <td>2016</td>\n",
       "    </tr>\n",
       "    <tr>\n",
       "      <th>...</th>\n",
       "      <td>...</td>\n",
       "      <td>...</td>\n",
       "      <td>...</td>\n",
       "      <td>...</td>\n",
       "    </tr>\n",
       "    <tr>\n",
       "      <th>8661</th>\n",
       "      <td>3.8</td>\n",
       "      <td>994</td>\n",
       "      <td>16.47</td>\n",
       "      <td>2016</td>\n",
       "    </tr>\n",
       "    <tr>\n",
       "      <th>8662</th>\n",
       "      <td>4.0</td>\n",
       "      <td>995</td>\n",
       "      <td>20.09</td>\n",
       "      <td>2016</td>\n",
       "    </tr>\n",
       "    <tr>\n",
       "      <th>8663</th>\n",
       "      <td>3.7</td>\n",
       "      <td>996</td>\n",
       "      <td>23.95</td>\n",
       "      <td>2010</td>\n",
       "    </tr>\n",
       "    <tr>\n",
       "      <th>8664</th>\n",
       "      <td>3.5</td>\n",
       "      <td>998</td>\n",
       "      <td>6.21</td>\n",
       "      <td>2019</td>\n",
       "    </tr>\n",
       "    <tr>\n",
       "      <th>8665</th>\n",
       "      <td>3.4</td>\n",
       "      <td>999</td>\n",
       "      <td>7.88</td>\n",
       "      <td>2016</td>\n",
       "    </tr>\n",
       "  </tbody>\n",
       "</table>\n",
       "<p>8658 rows × 4 columns</p>\n",
       "</div>"
      ],
      "text/plain": [
       "      Rating  NumberOfRatings  Price  Year\n",
       "0        4.2              100  95.00  2011\n",
       "1        4.3              100  15.50  2017\n",
       "2        3.9              100   7.45  2015\n",
       "3        3.5              100   8.72  2019\n",
       "4        3.9              100  29.15  2016\n",
       "...      ...              ...    ...   ...\n",
       "8661     3.8              994  16.47  2016\n",
       "8662     4.0              995  20.09  2016\n",
       "8663     3.7              996  23.95  2010\n",
       "8664     3.5              998   6.21  2019\n",
       "8665     3.4              999   7.88  2016\n",
       "\n",
       "[8658 rows x 4 columns]"
      ]
     },
     "metadata": {},
     "output_type": "display_data"
    }
   ],
   "source": [
    "# Drop the non-numeric columns. Alternatively, keep numeric columns.\n",
    "df_red.drop(columns=['Name', 'Country', 'Region', 'Winery'], inplace=True)\n",
    "display(df_red.head())\n",
    "# Drop rows with 'N.V.' values\n",
    "nonVintage = df_red.Year == 'N.V.'\n",
    "df_red.drop(df_red[nonVintage].index, axis=0, inplace=True)\n",
    "display(df_red)"
   ]
  },
  {
   "cell_type": "code",
   "execution_count": 7,
   "id": "ba4bdb02",
   "metadata": {},
   "outputs": [
    {
     "name": "stdout",
     "output_type": "stream",
     "text": [
      "<class 'pandas.core.frame.DataFrame'>\n",
      "Int64Index: 8658 entries, 0 to 8665\n",
      "Data columns (total 4 columns):\n",
      " #   Column           Non-Null Count  Dtype  \n",
      "---  ------           --------------  -----  \n",
      " 0   Rating           8658 non-null   float64\n",
      " 1   NumberOfRatings  8658 non-null   int64  \n",
      " 2   Price            8658 non-null   float64\n",
      " 3   Year             8658 non-null   object \n",
      "dtypes: float64(2), int64(1), object(1)\n",
      "memory usage: 338.2+ KB\n",
      "None\n",
      "<class 'pandas.core.frame.DataFrame'>\n",
      "Int64Index: 8658 entries, 0 to 8665\n",
      "Data columns (total 4 columns):\n",
      " #   Column           Non-Null Count  Dtype  \n",
      "---  ------           --------------  -----  \n",
      " 0   Rating           8658 non-null   float64\n",
      " 1   NumberOfRatings  8658 non-null   int64  \n",
      " 2   Price            8658 non-null   float64\n",
      " 3   Year             8658 non-null   int64  \n",
      "dtypes: float64(2), int64(2)\n",
      "memory usage: 338.2 KB\n",
      "None\n"
     ]
    }
   ],
   "source": [
    "print(df_red.info())\n",
    "    # cast all columns to numeric\n",
    "    df_red = df_red.apply(pd.to_numeric)\n",
    "print(df_red.info())"
   ]
  },
  {
   "cell_type": "code",
   "execution_count": 11,
   "id": "75410f6c",
   "metadata": {},
   "outputs": [],
   "source": [
    "# Define Features (X) and Target(y) for prediction\n",
    "X = df_red[['Price', 'Year', 'NumberOfRatings']]\n",
    "y = df_red.Rating"
   ]
  },
  {
   "cell_type": "code",
   "execution_count": 58,
   "id": "d78ec2ca",
   "metadata": {},
   "outputs": [
    {
     "name": "stdout",
     "output_type": "stream",
     "text": [
      "3.890147830738982\n"
     ]
    }
   ],
   "source": [
    "# Instantiate, fit model and use the fitted model to predict\n",
    "model = LGBMRegressor()\n",
    "model.fit(X,y)\n",
    "y_prd = model.predict(X) # One step forward prediction\n",
    "print(np.mean(y_prd))"
   ]
  },
  {
   "cell_type": "code",
   "execution_count": 30,
   "id": "0e3120c4",
   "metadata": {},
   "outputs": [
    {
     "name": "stderr",
     "output_type": "stream",
     "text": [
      " 98%|===================| 8466/8658 [00:17<00:00]        "
     ]
    },
    {
     "name": "stdout",
     "output_type": "stream",
     "text": [
      "CPU times: total: 16.4 s\n",
      "Wall time: 16.6 s\n"
     ]
    }
   ],
   "source": [
    "%%time\n",
    "# Instantiate Explainer and get Shap values object\n",
    "explainer = shap.Explainer(model,X)\n",
    "shap_values = explainer(X)"
   ]
  },
  {
   "cell_type": "code",
   "execution_count": 34,
   "id": "20bc0feb",
   "metadata": {},
   "outputs": [
    {
     "name": "stdout",
     "output_type": "stream",
     "text": [
      "The Datatype of the shap_values object is: <class 'shap._explanation.Explanation'>\n",
      "The shape of shap_values object is: (8658, 3) rows and columns\n",
      "Is it true that the shape of shap_values equals the shape of Features, X? True\n"
     ]
    }
   ],
   "source": [
    "# Examine the shap_values object\n",
    "print(F'The Datatype of the shap_values object is: {type(shap_values)}')\n",
    "print(f'The shape of shap_values object is: {shap_values.shape} rows and columns')\n",
    "# How does the shape of shap_values correlate with the shape of the Features X?\n",
    "print(f'Is it true that the shape of shap_values equals the shape of Features, X? {shap_values.shape == X.shape}')"
   ]
  },
  {
   "cell_type": "code",
   "execution_count": 44,
   "id": "58fe6336",
   "metadata": {},
   "outputs": [
    {
     "name": "stdout",
     "output_type": "stream",
     "text": [
      ".values =\n",
      "array([-0.07753888,  0.0346482 ,  0.01430777])\n",
      "\n",
      ".base_values =\n",
      "3.892730293342654\n",
      "\n",
      ".data =\n",
      "array([  15.5, 2017. ,  100. ])\n"
     ]
    },
    {
     "data": {
      "image/png": "[encoded data removed]",
      "text/plain": [
       "<Figure size 800x300 with 3 Axes>"
      ]
     },
     "metadata": {},
     "output_type": "display_data"
    }
   ],
   "source": [
    "# The shap outputs for the second row\n",
    "print(shap_values[1])\n",
    "\n",
    "# Waterfall Plots\n",
    "shap.plots.waterfall(shap_values[1])"
   ]
  },
  {
   "cell_type": "markdown",
   "id": "c38653c5",
   "metadata": {},
   "source": [
    "- <b>.values</b> are the shap values, which are the contributions of each feature to the prediction\n",
    "- <b>.base_values</b> is the expected value with all features\n",
    "- <b>.data</b> is the corresponding row of the data in the feature dataframe X\n",
    "\n",
    "Notice that the base_value of 3.893 is in the ballpark of the one-step ahead prediction done earlier, 3.890 (a multistep prediction will not deviate far from this number; it will actually be very close to 3.893). The base_value can be interpreted as the expected value of the model's prediction, indicated in the plot as E[f(X)]. A very good way to understanding expected value is to interpret it as the mean or average value.\n",
    "\n",
    "The plot can be interpreted as both Year and NumberOfRatings tend to push up the average model prediction whereas Price tends to depress the average model prediction. The three Features together influence the average model prediction by -0.03 (0.01 + 0.03 - 0.08 = 0.03). This can also be verfied by the value of f(X) in the top left corner of the plot, F(X) = 3.864 (3.893 - 0.03 = 3.863, allowing for rounding)."
   ]
  },
  {
   "cell_type": "code",
   "execution_count": 60,
   "id": "bfc37bcb",
   "metadata": {},
   "outputs": [
    {
     "name": "stdout",
     "output_type": "stream",
     "text": [
      ".values =\n",
      "array([-0.29428635,  0.02606614, -0.0138356 ])\n",
      "\n",
      ".base_values =\n",
      "3.892730293342654\n",
      "\n",
      ".data =\n",
      "array([   8.49, 2017.  ,  100.  ])\n"
     ]
    },
    {
     "data": {
      "image/png": "[encoded data removed]",
      "text/plain": [
       "<Figure size 800x300 with 3 Axes>"
      ]
     },
     "metadata": {},
     "output_type": "display_data"
    }
   ],
   "source": [
    "# Another waterflall plot to confirm the above interpretation\n",
    "# The shap outputs for the second row\n",
    "print(shap_values[14])\n",
    "\n",
    "# Waterfall Plots\n",
    "shap.plots.waterfall(shap_values[14])"
   ]
  },
  {
   "cell_type": "markdown",
   "id": "aa3a415d",
   "metadata": {},
   "source": [
    "Shap values may be different for same value of features. For example, in the two sets of shap_values above, the NumberOfRatings is 100, but the shap_values of the NumberOfRatings feature are noticeably different."
   ]
  },
  {
   "cell_type": "code",
   "execution_count": 62,
   "id": "66a2f549",
   "metadata": {},
   "outputs": [
    {
     "data": {
      "image/png": "[encoded data removed]",
      "text/plain": [
       "<Figure size 800x300 with 1 Axes>"
      ]
     },
     "metadata": {},
     "output_type": "display_data"
    }
   ],
   "source": [
    "# The Feature Importance plot, using the shap_values object.\n",
    "shap.plots.bar(shap_values)"
   ]
  },
  {
   "cell_type": "markdown",
   "id": "5209a3a8",
   "metadata": {},
   "source": [
    "Interpretation: The horizontal bar plot above shows the mean shap value for each feature. the takeaway is that the feature with the highest mean value influences the model the most. In this case we can see that over the entire dataset, Price most influences the predicted output."
   ]
  },
  {
   "cell_type": "markdown",
   "id": "0aef2cc4",
   "metadata": {},
   "source": [
    "### Potential areas for model improvement\n",
    "\n",
    "- Encode categorical variables and introduce them as additional features\n",
    "- Enable multistep forecasts in the model\n",
    "- Create training and testing datasets - train the model on training data and test the model on testing data\n",
    "- Tune the hyperparameters using cross validation"
   ]
  },
  {
   "cell_type": "markdown",
   "id": "81c581dd",
   "metadata": {},
   "source": [
    "Although this tutorial stops here, do refer to the classic Lundberg & Lee paper. Additionally Lundberg in github page (https://github.com/slundberg/shap) has detailed explanations along with code."
   ]
  },
  {
   "cell_type": "code",
   "execution_count": null,
   "id": "7a70c48c",
   "metadata": {},
   "outputs": [],
   "source": []
  },
  {
   "cell_type": "code",
   "execution_count": null,
   "id": "1ef46019",
   "metadata": {},
   "outputs": [],
   "source": []
  },
  {
   "cell_type": "code",
   "execution_count": null,
   "id": "343a7fe1",
   "metadata": {},
   "outputs": [],
   "source": []
  }
 ],
 "metadata": {
  "kernelspec": {
   "display_name": "Python 3 (ipykernel)",
   "language": "python",
   "name": "python3"
  },
  "language_info": {
   "codemirror_mode": {
    "name": "ipython",
    "version": 3
   },
   "file_extension": ".py",
   "mimetype": "text/x-python",
   "name": "python",
   "nbconvert_exporter": "python",
   "pygments_lexer": "ipython3",
   "version": "3.10.9"
  }
 },
 "nbformat": 4,
 "nbformat_minor": 5
}
