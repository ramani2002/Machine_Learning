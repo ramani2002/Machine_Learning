{
 "cells": [
  {
   "cell_type": "markdown",
   "id": "3b8aeeba-2802-4349-b9cd-501fb8d50a03",
   "metadata": {},
   "source": [
    "# Copying Sorts"
   ]
  },
  {
   "cell_type": "markdown",
   "id": "50e4eb3b-32e8-4de1-9f72-b2552b081574",
   "metadata": {},
   "source": [
    "The orginal list is passed to a function that makes a copy of teh original list, sorts it and returns it."
   ]
  },
  {
   "cell_type": "code",
   "execution_count": 55,
   "id": "688bb0e5-bd74-4c23-b5c9-0690fcc71f33",
   "metadata": {},
   "outputs": [],
   "source": [
    "def copy_sort1(array: list) -> list:\n",
    "    \"\"\"\n",
    "    Sort an array (of list) of positive numbers that is a copy of the original array of positive numbers\n",
    "    Args:\n",
    "    array (or list) of numbers\n",
    "    Returns:\n",
    "    sorted array\n",
    "    \"\"\"\n",
    "    newarray = array.copy()\n",
    "    sorted_array = []\n",
    "    while len(newarray) > 0:\n",
    "        minimum = 0\n",
    "        for element in range (0, len(newarray)):\n",
    "            if newarray[element] < newarray[minimum]:\n",
    "                minimum = element\n",
    "        print(f'Removing value ', newarray[minimum], f'from ', newarray)\n",
    "        sorted_array.append(newarray.pop(minimum))\n",
    "    return sorted_array"
   ]
  },
  {
   "cell_type": "code",
   "execution_count": 57,
   "id": "30242410-1a40-4a22-9841-37aa945cb5e7",
   "metadata": {},
   "outputs": [
    {
     "name": "stdout",
     "output_type": "stream",
     "text": [
      "Removing value  -10 from  [-4, -10, 6, 3, 35]\n",
      "Removing value  -4 from  [-4, 6, 3, 35]\n",
      "Removing value  3 from  [6, 3, 35]\n",
      "Removing value  6 from  [6, 35]\n",
      "Removing value  35 from  [35]\n",
      "[-10, -4, 3, 6, 35]\n"
     ]
    }
   ],
   "source": [
    "array1 = [5, 3, 1, 2, 6, 4]\n",
    "array2 = [-4,-10,6,3,35]\n",
    "\n",
    "if __name__=='__main__':\n",
    "    print(copy_sort1(array2))"
   ]
  },
  {
   "cell_type": "code",
   "execution_count": null,
   "id": "bdc0b173-4949-42c2-8e8c-d8f3f073626f",
   "metadata": {},
   "outputs": [],
   "source": []
  },
  {
   "cell_type": "code",
   "execution_count": null,
   "id": "3fd5d4ce-55dc-4a1f-a04c-9ab11c835938",
   "metadata": {},
   "outputs": [],
   "source": []
  },
  {
   "cell_type": "code",
   "execution_count": null,
   "id": "e6ac4cf3-6100-446c-9968-416705d817c1",
   "metadata": {},
   "outputs": [],
   "source": []
  },
  {
   "cell_type": "code",
   "execution_count": null,
   "id": "40609d6c-9cb6-4e37-b6f6-61473938e4b0",
   "metadata": {},
   "outputs": [],
   "source": []
  },
  {
   "cell_type": "code",
   "execution_count": null,
   "id": "fe745a87-3422-4acc-b176-332cec21db4a",
   "metadata": {},
   "outputs": [],
   "source": []
  }
 ],
 "metadata": {
  "kernelspec": {
   "display_name": "Python 3 (ipykernel)",
   "language": "python",
   "name": "python3"
  },
  "language_info": {
   "codemirror_mode": {
    "name": "ipython",
    "version": 3
   },
   "file_extension": ".py",
   "mimetype": "text/x-python",
   "name": "python",
   "nbconvert_exporter": "python",
   "pygments_lexer": "ipython3",
   "version": "3.12.4"
  }
 },
 "nbformat": 4,
 "nbformat_minor": 5
}
